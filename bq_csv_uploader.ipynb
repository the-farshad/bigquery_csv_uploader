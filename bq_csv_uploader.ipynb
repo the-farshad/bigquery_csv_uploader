{
  "nbformat": 4,
  "nbformat_minor": 0,
  "metadata": {
    "colab": {
      "name": "bq_csv_uploader.ipynb",
      "provenance": [],
      "collapsed_sections": [],
      "toc_visible": true,
      "authorship_tag": "ABX9TyMHgTuRwnN9cpgXCfPQLo5n",
      "include_colab_link": true
    },
    "kernelspec": {
      "name": "python3",
      "display_name": "Python 3"
    },
    "language_info": {
      "name": "python"
    }
  },
  "cells": [
    {
      "cell_type": "markdown",
      "metadata": {
        "id": "view-in-github",
        "colab_type": "text"
      },
      "source": [
        "<a href=\"https://colab.research.google.com/github/the-farshad/bigquery_csv_uploader/blob/main/bq_csv_uploader.ipynb\" target=\"_parent\"><img src=\"https://colab.research.google.com/assets/colab-badge.svg\" alt=\"Open In Colab\"/></a>"
      ]
    },
    {
      "cell_type": "code",
      "source": [
        "import os\n",
        "from google.colab import drive\n",
        "from google.oauth2 import service_account\n",
        "import pandas as pd"
      ],
      "metadata": {
        "id": "OyvLGbEcIXvB"
      },
      "execution_count": null,
      "outputs": []
    },
    {
      "cell_type": "code",
      "source": [
        "drive.mount('/content/drive/')"
      ],
      "metadata": {
        "colab": {
          "base_uri": "https://localhost:8080/"
        },
        "id": "LYAysBPkIaQ8",
        "outputId": "1118df45-3da2-4e2f-f4b7-fc238d93c4d3"
      },
      "execution_count": null,
      "outputs": [
        {
          "output_type": "stream",
          "name": "stdout",
          "text": [
            "Mounted at /content/drive/\n"
          ]
        }
      ]
    },
    {
      "cell_type": "code",
      "source": [
        "files_path = '/content/drive/MyDrive/bq/'\n",
        "name = 'products'\n",
        "extension = '.csv'\n",
        "csv_path = files_path + name + extension\n",
        "table_id = 'analytics.' + name\n",
        "df = pd.read_csv(csv_path)"
      ],
      "metadata": {
        "id": "Ga6ponpbIj8w"
      },
      "execution_count": null,
      "outputs": []
    },
    {
      "cell_type": "code",
      "source": [
        "credentials = service_account.Credentials.from_service_account_file(\n",
        "    files_path + 'service_account.json',\n",
        ")"
      ],
      "metadata": {
        "id": "pxcwL567JaI7"
      },
      "execution_count": null,
      "outputs": []
    },
    {
      "cell_type": "code",
      "source": [
        "!ls {files_path}"
      ],
      "metadata": {
        "colab": {
          "base_uri": "https://localhost:8080/"
        },
        "id": "8M43Ks4jJJ0t",
        "outputId": "2fc2ef63-c8f7-432b-f7fb-f14c7aa37e79"
      },
      "execution_count": null,
      "outputs": [
        {
          "output_type": "stream",
          "name": "stdout",
          "text": [
            " categories.csv   products.csv\t\t'specialties (1).csv'\n",
            " merchants.csv\t  service_account.json\t specialties.csv\n"
          ]
        }
      ]
    },
    {
      "cell_type": "code",
      "source": [
        "pd.DataFrame.to_gbq(df, table_id, if_exists = 'replace', credentials=credentials)"
      ],
      "metadata": {
        "colab": {
          "base_uri": "https://localhost:8080/"
        },
        "id": "TF8oBYeFVceQ",
        "outputId": "7d609a40-a5b9-4311-d8fe-6497d523a4d7"
      },
      "execution_count": null,
      "outputs": [
        {
          "output_type": "stream",
          "name": "stderr",
          "text": [
            "1it [12:30, 750.81s/it]\n"
          ]
        }
      ]
    },
    {
      "cell_type": "code",
      "source": [
        "credentials_path = files_path + 'service_account.json'\n",
        "os.environ['GOOGLE_APPLICATION_CREDENTIALS'] = credentials_path"
      ],
      "metadata": {
        "id": "Q1uClI7JOIFY"
      },
      "execution_count": null,
      "outputs": []
    }
  ]
}